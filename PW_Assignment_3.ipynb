{
  "nbformat": 4,
  "nbformat_minor": 0,
  "metadata": {
    "colab": {
      "provenance": []
    },
    "kernelspec": {
      "name": "python3",
      "display_name": "Python 3"
    },
    "language_info": {
      "name": "python"
    }
  },
  "cells": [
    {
      "cell_type": "code",
      "execution_count": null,
      "metadata": {
        "id": "sZoUdWv8EChL"
      },
      "outputs": [],
      "source": [
        "#Theoritical Questions and Answers"
      ]
    },
    {
      "cell_type": "markdown",
      "source": [],
      "metadata": {
        "id": "lSovLC0NENgr"
      }
    },
    {
      "cell_type": "markdown",
      "source": [
        "**Theory Questions and Examples**\n",
        "\n",
        "1. **What is the difference between a function and a method in Python?**\n",
        "   - A function is a block of reusable code defined outside of a class. A method is a function that is associated with an object and is called on that object.\n",
        "   - Example:\n",
        "     A standalone function:\n",
        "     ```python\n",
        "     def greet():\n",
        "         print(\"Hello!\")\n",
        "     greet()\n",
        "     ```\n",
        "     A method within a class:\n",
        "     ```python\n",
        "     class Person:\n",
        "         def say_hello(self):\n",
        "             print(\"Hello!\")\n",
        "     person = Person()\n",
        "     person.say_hello()\n",
        "     ```\n",
        "\n",
        "2. **Explain the concept of function arguments and parameters in Python.**\n",
        "   - Parameters are variables listed in the function definition. Arguments are the actual values passed to the function when it is called.\n",
        "   - Example:\n",
        "     ```python\n",
        "     def add(a, b):  # Parameters\n",
        "         return a + b\n",
        "     result = add(3, 5)  # Arguments\n",
        "     print(result)\n",
        "     ```\n",
        "\n",
        "3. **What are the different ways to define and call a function in Python?**\n",
        "   - Functions can be defined using the `def` keyword or as anonymous functions using `lambda`.\n",
        "   - Example:\n",
        "     Using `def`:\n",
        "     ```python\n",
        "     def square(x):\n",
        "         return x * x\n",
        "     print(square(4))\n",
        "     ```\n",
        "     Using `lambda`:\n",
        "     ```python\n",
        "     square = lambda x: x * x\n",
        "     print(square(4))\n",
        "     ```\n",
        "\n",
        "4. **What is the purpose of the return statement in a Python function?**\n",
        "   - The `return` statement is used to send a result back to the caller and terminate the function execution.\n",
        "   - Example:\n",
        "     ```python\n",
        "     def multiply(a, b):\n",
        "         return a * b\n",
        "     print(multiply(4, 5))\n",
        "     ```\n",
        "\n",
        "5. **What are iterators in Python and how do they differ from iterables?**\n",
        "   - Iterables are objects that can return an iterator using the `iter()` function. Iterators are objects that represent a stream of data and can be iterated using `next()`.\n",
        "   - Example:\n",
        "     ```python\n",
        "     my_list = [1, 2, 3]  # Iterable\n",
        "     my_iterator = iter(my_list)  # Iterator\n",
        "     print(next(my_iterator))  # Output: 1\n",
        "     print(next(my_iterator))  # Output: 2\n",
        "     ```\n",
        "\n",
        "6. **Explain the concept of generators in Python and how they are defined.**\n",
        "   - Generators are a type of iterable that yield values one at a time using the `yield` keyword. They are defined like functions.\n",
        "   - Example:\n",
        "     ```python\n",
        "     def generate_numbers():\n",
        "         for i in range(3):\n",
        "             yield i\n",
        "     for num in generate_numbers():\n",
        "         print(num)\n",
        "     ```\n",
        "\n",
        "7. **What are the advantages of using generators over regular functions?**\n",
        "   - Generators are memory efficient, as they yield items one at a time instead of storing all values in memory.\n",
        "   - Example:\n",
        "     A regular function:\n",
        "     ```python\n",
        "     def regular_function():\n",
        "         return [i for i in range(1000000)]\n",
        "     ```\n",
        "     A generator function:\n",
        "     ```python\n",
        "     def generator_function():\n",
        "         for i in range(1000000):\n",
        "             yield i\n",
        "     ```\n",
        "\n",
        "8. **What is a lambda function in Python and when is it typically used?**\n",
        "   - A lambda function is an anonymous function defined using the `lambda` keyword. It is often used for short, one-line functions.\n",
        "   - Example:\n",
        "     ```python\n",
        "     add = lambda a, b: a + b\n",
        "     print(add(3, 5))\n",
        "     ```\n",
        "\n",
        "9. **Explain the purpose and usage of the map() function in Python.**\n",
        "   - The `map()` function applies a given function to each item of an iterable and returns an iterator.\n",
        "   - Example:\n",
        "     ```python\n",
        "     numbers = [1, 2, 3]\n",
        "     squared = map(lambda x: x ** 2, numbers)\n",
        "     print(list(squared))  # Output: [1, 4, 9]\n",
        "     ```\n",
        "\n",
        "10. **What is the difference between map(), reduce(), and filter() functions in Python?**\n",
        "    - `map()`: Applies a function to all items in an iterable.\n",
        "    - `filter()`: Filters items in an iterable based on a condition.\n",
        "    - `reduce()`: Reduces an iterable to a single value using a function.\n",
        "    - Example:\n",
        "      ```python\n",
        "      from functools import reduce\n",
        "      numbers = [1, 2, 3, 4]\n",
        "\n",
        "      # map\n",
        "      squared = map(lambda x: x ** 2, numbers)\n",
        "      print(list(squared))  # Output: [1, 4, 9, 16]\n",
        "\n",
        "      # filter\n",
        "      even = filter(lambda x: x % 2 == 0, numbers)\n",
        "      print(list(even))  # Output: [2, 4]\n",
        "\n",
        "      # reduce\n",
        "      total = reduce(lambda x, y: x + y, numbers)\n",
        "      print(total)  # Output: 10\n",
        "      ```\n",
        "\n",
        "11. **Using pen & paper write the internal mechanism for sum operation using reduce on the list [47, 11, 42, 13].**\n",
        "    - Steps:\n",
        "      1. Take the first two elements: `47 + 11 = 58`.\n",
        "      2. Take the result and the next element: `58 + 42 = 100`.\n",
        "      3. Take the result and the last element: `100 + 13 = 113`.\n",
        "\n",
        "    Final result: `113`.\n",
        "\n"
      ],
      "metadata": {
        "id": "MS8ySUX3GKnF"
      }
    },
    {
      "cell_type": "code",
      "source": [
        "#Practical Questions and Answers"
      ],
      "metadata": {
        "id": "_OwZpeB8IQ-k"
      },
      "execution_count": null,
      "outputs": []
    },
    {
      "cell_type": "code",
      "source": [
        "def sum_of_evens(numbers):\n",
        "    return sum(num for num in numbers if num % 2 == 0)\n",
        "\n",
        "# Test 1\n",
        "print(\"Sum of even numbers:\", sum_of_evens([1, 2, 3, 4, 5, 6]))"
      ],
      "metadata": {
        "colab": {
          "base_uri": "https://localhost:8080/"
        },
        "id": "OzBva8mRGh3z",
        "outputId": "5a0102c3-d08c-47e6-ac54-df48a4741da9"
      },
      "execution_count": 8,
      "outputs": [
        {
          "output_type": "stream",
          "name": "stdout",
          "text": [
            "Sum of even numbers: 12\n"
          ]
        }
      ]
    },
    {
      "cell_type": "code",
      "source": [
        "# 2. Reverse a string\n",
        "def reverse_string(s):\n",
        "    return s[::-1]\n",
        "\n",
        "# Test 2\n",
        "print(\"Reversed string:\", reverse_string(\"Parth\"))"
      ],
      "metadata": {
        "colab": {
          "base_uri": "https://localhost:8080/"
        },
        "id": "MnzB9EzNHdzn",
        "outputId": "a0f7b8ea-fe4c-4d74-de2c-04240d75526b"
      },
      "execution_count": 11,
      "outputs": [
        {
          "output_type": "stream",
          "name": "stdout",
          "text": [
            "Reversed string: htraP\n"
          ]
        }
      ]
    },
    {
      "cell_type": "code",
      "source": [
        "# 3. Squares of each number in a list\n",
        "def square_numbers(numbers):\n",
        "    return [num ** 2 for num in numbers]\n",
        "\n",
        "# Test 3\n",
        "print(\"Squares of numbers:\", square_numbers([1, 2, 3, 4]))"
      ],
      "metadata": {
        "colab": {
          "base_uri": "https://localhost:8080/"
        },
        "id": "3zfjP_tpHdn5",
        "outputId": "e536b471-ee53-4815-a018-2b62f7619d0b"
      },
      "execution_count": 14,
      "outputs": [
        {
          "output_type": "stream",
          "name": "stdout",
          "text": [
            "Squares of numbers: [1, 4, 9, 16]\n"
          ]
        }
      ]
    },
    {
      "cell_type": "code",
      "source": [
        "# 4. Check if a number is prime (1 to 200)\n",
        "def is_prime(num):\n",
        "    if num <= 1:\n",
        "        return False\n",
        "    for i in range(2, int(num ** 0.5) + 1):\n",
        "        if num % i == 0:\n",
        "            return False\n",
        "    return True\n",
        "    # Get all primes from 1 to 200\n",
        "primes = [n for n in range(1, 201) if is_prime(n)]\n",
        "print(\"Prime numbers between 1 and 200:\", primes)\n"
      ],
      "metadata": {
        "id": "KzrIKHg2HdlC"
      },
      "execution_count": null,
      "outputs": []
    },
    {
      "cell_type": "code",
      "source": [
        "# 5. Fibonacci sequence iterator class\n",
        "class Fibonacci:\n",
        "    def __init__(self, terms):\n",
        "        self.terms = terms\n",
        "        self.current = 0\n",
        "        self.next = 1\n",
        "        self.count = 0\n",
        "\n",
        "    def __iter__(self):\n",
        "        return self\n",
        "\n",
        "    def __next__(self):\n",
        "        if self.count >= self.terms:\n",
        "            raise StopIteration\n",
        "        self.count += 1\n",
        "        value = self.current\n",
        "        self.current, self.next = self.next, self.current + self.next\n",
        "        return value\n",
        "\n",
        "# Test 5\n",
        "fib = Fibonacci(10)\n",
        "print(\"First 10 Fibonacci numbers:\", list(fib))"
      ],
      "metadata": {
        "id": "hKQT85YKHdia"
      },
      "execution_count": null,
      "outputs": []
    },
    {
      "cell_type": "code",
      "source": [
        "# 6. Generator for powers of 2\n",
        "def powers_of_two(exponent):\n",
        "    for i in range(exponent + 1):\n",
        "        yield 2 ** i\n",
        "\n",
        "# Test 6\n",
        "print(\"Powers of 2 up to 2^5:\", list(powers_of_two(5)))"
      ],
      "metadata": {
        "id": "lppfS8pUHdf1"
      },
      "execution_count": null,
      "outputs": []
    },
    {
      "cell_type": "code",
      "source": [
        "# 7. Generator to read a file line by line\n",
        "def read_file_line_by_line(file_path):\n",
        "    with open(file_path, 'r') as file:\n",
        "        for line in file:\n",
        "            yield line.strip()\n",
        "\n",
        "# Test 7\n",
        "# Uncomment the lines below and provide a valid file path to test.\n",
        "# for line in read_file_line_by_line(\"example.txt\"):\n",
        "#     print(line)"
      ],
      "metadata": {
        "id": "92DbHGemHddN"
      },
      "execution_count": 19,
      "outputs": []
    },
    {
      "cell_type": "code",
      "source": [
        "# 8. Lambda to sort a list of tuples by the second element\n",
        "tuples = [(1, 3), (2, 1), (4, 2)]\n",
        "sorted_tuples = sorted(tuples, key=lambda x: x[1])\n",
        "print(\"Sorted tuples by second element:\", sorted_tuples)\n"
      ],
      "metadata": {
        "colab": {
          "base_uri": "https://localhost:8080/"
        },
        "id": "yVrIvyt7HdaW",
        "outputId": "23c9508f-4881-430d-ad28-9241997017ed"
      },
      "execution_count": 20,
      "outputs": [
        {
          "output_type": "stream",
          "name": "stdout",
          "text": [
            "Sorted tuples by second element: [(2, 1), (4, 2), (1, 3)]\n"
          ]
        }
      ]
    },
    {
      "cell_type": "code",
      "source": [
        "# 9. Convert temperatures from Celsius to Fahrenheit using `map()`\n",
        "def celsius_to_fahrenheit(celsius_list):\n",
        "    return list(map(lambda c: (c * 9/5) + 32, celsius_list))\n",
        "\n",
        "# Test 9\n",
        "print(\"Celsius to Fahrenheit:\", celsius_to_fahrenheit([0, 20, 30, 100]))"
      ],
      "metadata": {
        "colab": {
          "base_uri": "https://localhost:8080/"
        },
        "id": "fl1Z-U1uHdXx",
        "outputId": "85e2c51f-85ec-4c42-9926-823616022801"
      },
      "execution_count": 18,
      "outputs": [
        {
          "output_type": "stream",
          "name": "stdout",
          "text": [
            "Celsius to Fahrenheit: [32.0, 68.0, 86.0, 212.0]\n"
          ]
        }
      ]
    },
    {
      "cell_type": "code",
      "source": [
        "# 10. Remove vowels from a string using `filter()`\n",
        "def remove_vowels(s):\n",
        "    return ''.join(filter(lambda x: x.lower() not in 'aeiou', s))\n",
        "\n",
        "# Test 10\n",
        "print(\"String without vowels:\", remove_vowels(\"hello world\"))"
      ],
      "metadata": {
        "colab": {
          "base_uri": "https://localhost:8080/"
        },
        "id": "tklAa7eTS_b2",
        "outputId": "098b7840-584e-4c04-9b3d-8dcc5096607b"
      },
      "execution_count": 17,
      "outputs": [
        {
          "output_type": "stream",
          "name": "stdout",
          "text": [
            "String without vowels: hll wrld\n"
          ]
        }
      ]
    }
  ]
}